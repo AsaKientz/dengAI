{
 "cells": [
  {
   "cell_type": "code",
   "execution_count": 20,
   "metadata": {},
   "outputs": [],
   "source": [
    "import pandas as pd\n",
    "import numpy as np\n",
    "import matplotlib.pyplot as ply\n",
    "import seaborn as sns\n",
    "import os\n",
    "\n",
    "from sklearn.ensemble import RandomForestRegressor\n",
    "from sklearn.model_selection import train_test_split, KFold, cross_val_score\n",
    "from sklearn.metrics import mean_absolute_error\n",
    "from sklearn.impute import KNNImputer\n",
    "from sklearn.preprocessing import MinMaxScaler, StandardScaler\n",
    "from sklearn.pipeline import Pipeline\n",
    "from sklearn.decomposition import PCA\n",
    "from sklearn.metrics import accuracy_score, recall_score, precision_score, f1_score\n",
    "\n",
    "from sklearn.model_selection import GridSearchCV\n",
    "\n",
    "# from .. import data_preprocess\n",
    "\n",
    "pd.set_option('max_columns', None)\n",
    "pd.set_option('max_rows', None)"
   ]
  },
  {
   "cell_type": "markdown",
   "metadata": {},
   "source": [
    "## Common Code"
   ]
  },
  {
   "cell_type": "code",
   "execution_count": 21,
   "metadata": {},
   "outputs": [],
   "source": [
    "# Files supplied by the competition for model training\n",
    "X_train = pd.read_csv('../../data/dengue_features_train.csv')\n",
    "y_train = pd.read_csv('../../data/dengue_labels_train.csv', usecols=['total_cases'])"
   ]
  },
  {
   "cell_type": "code",
   "execution_count": 22,
   "metadata": {},
   "outputs": [],
   "source": [
    "# Files supplied by the competition for submission\n",
    "X_test = pd.read_csv('../../data/dengue_features_test.csv')\n",
    "y_test = pd.read_csv('../../data/submission_format.csv')"
   ]
  },
  {
   "cell_type": "code",
   "execution_count": 23,
   "metadata": {},
   "outputs": [],
   "source": [
    "def data_preprocess(df):\n",
    "    # drop or encode categorical cols\n",
    "    df_processed = df.drop('week_start_date', axis=1)\n",
    "    df_processed['city'] = df_processed['city'].apply(lambda x : 1 if x=='iq' else 0)\n",
    "    return df_processed"
   ]
  },
  {
   "cell_type": "code",
   "execution_count": 24,
   "metadata": {},
   "outputs": [],
   "source": [
    "def create_submission_file(pipeline, filename_comment):\n",
    "    next_file_id = generate_next_submission_fileid()\n",
    "    X_test_processed = data_preprocess(X_test)\n",
    "    y_submit_pred = np.rint(pipeline.predict(X_test_processed))\n",
    "    y_test['total_cases'] = y_submit_pred\n",
    "    y_test['total_cases'] = y_test['total_cases'].astype(int)\n",
    "    y_test.to_csv(f'../../data/dengue_submission_{next_file_id}_{filename_comment}.csv', index = False)\n",
    "    return y_submit_pred"
   ]
  },
  {
   "cell_type": "code",
   "execution_count": 25,
   "metadata": {},
   "outputs": [],
   "source": [
    "def generate_next_submission_fileid():\n",
    "    files_found = []\n",
    "    for file in os.listdir(\"../../data\"):\n",
    "        if file.startswith(\"dengue_submission\"):\n",
    "            files_found.append(file[18:20])\n",
    "    return f'{int(sorted(files_found).pop()) + 1 :02}'"
   ]
  },
  {
   "cell_type": "markdown",
   "metadata": {},
   "source": [
    "## Notebook-specific code"
   ]
  },
  {
   "cell_type": "markdown",
   "metadata": {},
   "source": [
    "### Other Estimators to try:\n",
    "https://www.analyticsvidhya.com/blog/2021/01/a-quick-overview-of-regression-algorithms-in-machine-learning/ <br>\n",
    "https://scikit-learn.org/stable/modules/classes.html#module-sklearn.ensemble <br>\n",
    "- AdaBoost\n",
    "- XGBoost\n",
    "- SVM\n",
    "- KNN\n",
    "- Linear Regression (incl L1 reg)\n",
    "- Time Series (ARIMA, etc)"
   ]
  },
  {
   "cell_type": "code",
   "execution_count": 30,
   "metadata": {},
   "outputs": [],
   "source": [
    "from sklearn.ensemble import AdaBoostRegressor"
   ]
  },
  {
   "cell_type": "code",
   "execution_count": 35,
   "metadata": {},
   "outputs": [],
   "source": [
    "def cross_validate(X, y, estimator, cv, scaler=StandardScaler(), imputer=KNNImputer(n_neighbors = 5), dim_reduction=PCA(n_components = 9)):\n",
    "    pipeline = Pipeline(steps=[\n",
    "        ('scaler', scaler),\n",
    "        ('imputer', imputer),\n",
    "        ('dim_reduction', dim_reduction),\n",
    "        ('estimator', estimator)\n",
    "    ])\n",
    "    \n",
    "    #X_train, y_train, X_val, y_val = train_test_split(X, y, test_size=.2, random_state=42)\n",
    "    mae_list_train = []\n",
    "    mae_list_val = []\n",
    "    \n",
    "    for train_idxs, val_idxs in cv.split(X, y):\n",
    "        X_train, y_train = X.iloc[train_idxs], y.iloc[train_idxs]\n",
    "        pipeline.fit(X_train, y_train)\n",
    "        y_pred_train = pipeline.predict(X_train)\n",
    "        print(f'Train MAE = {mean_absolute_error(y_train, y_pred_train)}')\n",
    "        mae_list_train.append(mean_absolute_error(y_train, y_pred_train))\n",
    "        \n",
    "        X_val, y_val = X.iloc[val_idxs], y.iloc[val_idxs]\n",
    "        y_pred_val = pipeline.predict(X_val)\n",
    "\n",
    "        print(f'Validation MAE = {mean_absolute_error(y_val, y_pred_val)}')\n",
    "        mae_list_val.append(mean_absolute_error(y_val, y_pred_val))\n",
    "    \n",
    "    print(f'MAE Train Mean: {np.mean(mae_list_train)}')\n",
    "    print(f'MAE Val Mean: {np.mean(mae_list_val)}')\n",
    "\n",
    "    return pipeline    "
   ]
  },
  {
   "cell_type": "code",
   "execution_count": 41,
   "metadata": {},
   "outputs": [
    {
     "name": "stderr",
     "output_type": "stream",
     "text": [
      "/home/asa/anaconda3/lib/python3.7/site-packages/sklearn/model_selection/_split.py:296: FutureWarning: Setting a random_state has no effect since shuffle is False. This will raise an error in 0.24. You should leave random_state to its default (None), or set shuffle=True.\n",
      "  FutureWarning\n",
      "/home/asa/anaconda3/lib/python3.7/site-packages/sklearn/utils/validation.py:760: DataConversionWarning: A column-vector y was passed when a 1d array was expected. Please change the shape of y to (n_samples, ), for example using ravel().\n",
      "  y = column_or_1d(y, warn=True)\n"
     ]
    },
    {
     "name": "stdout",
     "output_type": "stream",
     "text": [
      "Train MAE = 12.346005164001712\n",
      "Validation MAE = 38.62703779586685\n"
     ]
    },
    {
     "name": "stderr",
     "output_type": "stream",
     "text": [
      "/home/asa/anaconda3/lib/python3.7/site-packages/sklearn/utils/validation.py:760: DataConversionWarning: A column-vector y was passed when a 1d array was expected. Please change the shape of y to (n_samples, ), for example using ravel().\n",
      "  y = column_or_1d(y, warn=True)\n"
     ]
    },
    {
     "name": "stdout",
     "output_type": "stream",
     "text": [
      "Train MAE = 16.561957878050077\n",
      "Validation MAE = 23.09315873582804\n"
     ]
    },
    {
     "name": "stderr",
     "output_type": "stream",
     "text": [
      "/home/asa/anaconda3/lib/python3.7/site-packages/sklearn/utils/validation.py:760: DataConversionWarning: A column-vector y was passed when a 1d array was expected. Please change the shape of y to (n_samples, ), for example using ravel().\n",
      "  y = column_or_1d(y, warn=True)\n"
     ]
    },
    {
     "name": "stdout",
     "output_type": "stream",
     "text": [
      "Train MAE = 19.54743226760971\n",
      "Validation MAE = 29.64050657364647\n"
     ]
    },
    {
     "name": "stderr",
     "output_type": "stream",
     "text": [
      "/home/asa/anaconda3/lib/python3.7/site-packages/sklearn/utils/validation.py:760: DataConversionWarning: A column-vector y was passed when a 1d array was expected. Please change the shape of y to (n_samples, ), for example using ravel().\n",
      "  y = column_or_1d(y, warn=True)\n"
     ]
    },
    {
     "name": "stdout",
     "output_type": "stream",
     "text": [
      "Train MAE = 20.795974186897507\n",
      "Validation MAE = 13.395170483785469\n"
     ]
    },
    {
     "name": "stderr",
     "output_type": "stream",
     "text": [
      "/home/asa/anaconda3/lib/python3.7/site-packages/sklearn/utils/validation.py:760: DataConversionWarning: A column-vector y was passed when a 1d array was expected. Please change the shape of y to (n_samples, ), for example using ravel().\n",
      "  y = column_or_1d(y, warn=True)\n"
     ]
    },
    {
     "name": "stdout",
     "output_type": "stream",
     "text": [
      "Train MAE = 21.580445229141468\n",
      "Validation MAE = 8.979725135424621\n",
      "MAE Train Mean: 18.166362945140094\n",
      "MAE Val Mean: 22.747119744910286\n"
     ]
    }
   ],
   "source": [
    "X_processed = data_preprocess(X_train)\n",
    "\n",
    "estimator = AdaBoostRegressor(base_estimator=None,\n",
    "                              n_estimators=100, \n",
    "                              learning_rate=0.01, \n",
    "                              loss='linear', \n",
    "                              random_state=42)\n",
    "cv = KFold(random_state = 42)\n",
    "pipe = cross_validate(X_processed, y_train, estimator, cv)"
   ]
  },
  {
   "cell_type": "code",
   "execution_count": 37,
   "metadata": {},
   "outputs": [],
   "source": [
    "sub_file = create_submission_file(pipe, \"AdaBoost_initial\")"
   ]
  },
  {
   "cell_type": "code",
   "execution_count": null,
   "metadata": {},
   "outputs": [],
   "source": [
    "y_sub = pd.read_csv('../../data/dengue_submission_04_testing_submission_script_2.csv')\n",
    "y_sub.head()"
   ]
  },
  {
   "cell_type": "code",
   "execution_count": null,
   "metadata": {},
   "outputs": [],
   "source": []
  }
 ],
 "metadata": {
  "kernelspec": {
   "display_name": "Python 3",
   "language": "python",
   "name": "python3"
  },
  "language_info": {
   "codemirror_mode": {
    "name": "ipython",
    "version": 3
   },
   "file_extension": ".py",
   "mimetype": "text/x-python",
   "name": "python",
   "nbconvert_exporter": "python",
   "pygments_lexer": "ipython3",
   "version": "3.7.4"
  }
 },
 "nbformat": 4,
 "nbformat_minor": 4
}
