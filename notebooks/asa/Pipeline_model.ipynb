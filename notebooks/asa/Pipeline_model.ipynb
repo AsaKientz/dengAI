{
 "cells": [
  {
   "cell_type": "code",
   "execution_count": 12,
   "metadata": {},
   "outputs": [],
   "source": [
    "import pandas as pd\n",
    "import numpy as np\n",
    "import matplotlib.pyplot as ply\n",
    "import seaborn as sns\n",
    "\n",
    "from sklearn.ensemble import RandomForestRegressor\n",
    "from sklearn.model_selection import train_test_split\n",
    "from sklearn.metrics import mean_absolute_error\n",
    "from sklearn.impute import KNNImputer\n",
    "from sklearn.preprocessing import MinMaxScaler, StandardScaler\n",
    "from sklearn.pipeline import Pipeline\n",
    "from sklearn.decomposition import PCA\n",
    "\n",
    "from sklearn.model_selection import GridSearchCV\n",
    "\n",
    "pd.set_option('max_columns', None)\n",
    "pd.set_option('max_rows', None)"
   ]
  },
  {
   "cell_type": "markdown",
   "metadata": {},
   "source": [
    "\"dengue_features_train.csv\" - split into 80 (\"train\") / 20 (\"test\")\n",
    "\"dengue_features_test.csv\" - data for scoring on the DrivenData challende (\"Hold out\")"
   ]
  },
  {
   "cell_type": "code",
   "execution_count": 2,
   "metadata": {},
   "outputs": [],
   "source": [
    "X = pd.read_csv('../../data/dengue_features_train.csv')\n",
    "y = pd.read_csv('../../data/dengue_labels_train.csv', usecols=['total_cases'])"
   ]
  },
  {
   "cell_type": "code",
   "execution_count": 3,
   "metadata": {},
   "outputs": [],
   "source": [
    "def data_preprocess(df):\n",
    "    # drop or encode categorical cols\n",
    "    df_processed = df.drop('week_start_date', axis=1)\n",
    "    df_processed['city'] = df_processed['city'].apply(lambda x : 1 if x=='iq' else 0)\n",
    "    return df_processed"
   ]
  },
  {
   "cell_type": "code",
   "execution_count": 4,
   "metadata": {},
   "outputs": [],
   "source": [
    "X_processed = data_preprocess(X)"
   ]
  },
  {
   "cell_type": "code",
   "execution_count": 5,
   "metadata": {},
   "outputs": [],
   "source": [
    "X_train, X_test, y_train, y_test = train_test_split(X_processed, y, test_size = 0.20, random_state = 42, stratify = X_processed['city'])"
   ]
  },
  {
   "cell_type": "code",
   "execution_count": 31,
   "metadata": {},
   "outputs": [],
   "source": [
    "n_neighbors = 5\n",
    "n_estimators = 51\n",
    "n_components = 9"
   ]
  },
  {
   "cell_type": "code",
   "execution_count": 7,
   "metadata": {},
   "outputs": [],
   "source": [
    "pipe = Pipeline([\n",
    "    ('scaler', StandardScaler()),\n",
    "    ('imputer',KNNImputer(n_neighbors = n_neighbors)),\n",
    "    ('regressor', RandomForestRegressor(random_state=42, n_estimators = n_estimators))\n",
    "])"
   ]
  },
  {
   "cell_type": "code",
   "execution_count": 8,
   "metadata": {},
   "outputs": [
    {
     "name": "stderr",
     "output_type": "stream",
     "text": [
      "/home/cgridley/anaconda3/lib/python3.8/site-packages/sklearn/pipeline.py:335: DataConversionWarning: A column-vector y was passed when a 1d array was expected. Please change the shape of y to (n_samples,), for example using ravel().\n",
      "  self._final_estimator.fit(Xt, y, **fit_params_last_step)\n"
     ]
    },
    {
     "name": "stdout",
     "output_type": "stream",
     "text": [
      "Testing score:  0.5597929445295612\n"
     ]
    }
   ],
   "source": [
    "pipe.fit(X_train, y_train)\n",
    "print('Testing score: ', pipe.score(X_test, y_test))"
   ]
  },
  {
   "cell_type": "code",
   "execution_count": 9,
   "metadata": {},
   "outputs": [
    {
     "name": "stdout",
     "output_type": "stream",
     "text": [
      "MAE = 12.403082191780822\n"
     ]
    }
   ],
   "source": [
    "y_pred = pipe.predict(X_test)\n",
    "print(f'MAE = {mean_absolute_error(y_test, y_pred)}')"
   ]
  },
  {
   "cell_type": "markdown",
   "metadata": {},
   "source": [
    "### Working first pipeline!  Scores match MAE from 'modeling.ipynb'"
   ]
  },
  {
   "cell_type": "markdown",
   "metadata": {},
   "source": [
    "## Adding in PCA to Pipeline"
   ]
  },
  {
   "cell_type": "code",
   "execution_count": 32,
   "metadata": {},
   "outputs": [],
   "source": [
    "pipe_2 = Pipeline([\n",
    "    ('scaler', StandardScaler()),\n",
    "    ('imputer',KNNImputer(n_neighbors = n_neighbors)),\n",
    "    ('dim_reduction', PCA(n_components = n_components)),\n",
    "    ('regressor', RandomForestRegressor(random_state=42, n_estimators = n_estimators))\n",
    "])"
   ]
  },
  {
   "cell_type": "code",
   "execution_count": 33,
   "metadata": {
    "scrolled": false
   },
   "outputs": [
    {
     "name": "stderr",
     "output_type": "stream",
     "text": [
      "/home/cgridley/anaconda3/lib/python3.8/site-packages/sklearn/pipeline.py:335: DataConversionWarning: A column-vector y was passed when a 1d array was expected. Please change the shape of y to (n_samples,), for example using ravel().\n",
      "  self._final_estimator.fit(Xt, y, **fit_params_last_step)\n"
     ]
    },
    {
     "name": "stdout",
     "output_type": "stream",
     "text": [
      "MAE = 17.57299221058286\n"
     ]
    }
   ],
   "source": [
    "pipe_2.fit(X_train, y_train)\n",
    "y_pred_2 = pipe_2.predict(X_test)\n",
    "print(f'MAE = {mean_absolute_error(y_test, y_pred_2)}')"
   ]
  },
  {
   "cell_type": "markdown",
   "metadata": {},
   "source": [
    "n_neighbors = 2\n",
    "n_estimators = 30\n",
    "n_components = 2\n",
    "MAE = 19.86187214611872\n",
    "\n",
    "n_neighbors = 5\n",
    "n_estimators = 51\n",
    "n_components = 9\n",
    "MAE = 17.57299221058286"
   ]
  },
  {
   "cell_type": "markdown",
   "metadata": {},
   "source": [
    "## Adding in GridSearchCV"
   ]
  },
  {
   "cell_type": "code",
   "execution_count": 34,
   "metadata": {},
   "outputs": [],
   "source": [
    "# Define range for PCA n_components\n",
    "n_components_to_test = np.arange(1,15, 2)\n",
    "# define n_estimators for RandomForestRegressor\n",
    "n_estimators_to_test = np.arange(1,202,25)\n",
    "# define n_neighbors for KNNImputer\n",
    "n_neighbors_to_test = np.arange(1,10, 2)"
   ]
  },
  {
   "cell_type": "code",
   "execution_count": 35,
   "metadata": {},
   "outputs": [],
   "source": [
    "# use dounble underscore to link pipline object with param name -\n",
    "# - use the label created when defining the pipe for the test left of the '__'\n",
    "params = {'imputer__n_neighbors' : n_neighbors_to_test,\n",
    "          'dim_reduction__n_components' : n_components_to_test,\n",
    "          'regressor__n_estimators' : n_estimators_to_test}"
   ]
  },
  {
   "cell_type": "code",
   "execution_count": 36,
   "metadata": {},
   "outputs": [
    {
     "name": "stdout",
     "output_type": "stream",
     "text": [
      "Fitting 5 folds for each of 315 candidates, totalling 1575 fits\n"
     ]
    },
    {
     "name": "stderr",
     "output_type": "stream",
     "text": [
      "[Parallel(n_jobs=-1)]: Using backend LokyBackend with 8 concurrent workers.\n",
      "[Parallel(n_jobs=-1)]: Done  25 tasks      | elapsed:    3.0s\n",
      "[Parallel(n_jobs=-1)]: Done 146 tasks      | elapsed:   10.8s\n",
      "[Parallel(n_jobs=-1)]: Done 349 tasks      | elapsed:   25.9s\n",
      "[Parallel(n_jobs=-1)]: Done 632 tasks      | elapsed:   52.1s\n",
      "[Parallel(n_jobs=-1)]: Done 997 tasks      | elapsed:  1.6min\n",
      "[Parallel(n_jobs=-1)]: Done 1442 tasks      | elapsed:  2.8min\n",
      "[Parallel(n_jobs=-1)]: Done 1575 out of 1575 | elapsed:  3.2min finished\n",
      "/home/cgridley/anaconda3/lib/python3.8/site-packages/sklearn/pipeline.py:335: DataConversionWarning: A column-vector y was passed when a 1d array was expected. Please change the shape of y to (n_samples,), for example using ravel().\n",
      "  self._final_estimator.fit(Xt, y, **fit_params_last_step)\n"
     ]
    },
    {
     "name": "stdout",
     "output_type": "stream",
     "text": [
      "Final score is: 0.11121885848683244\n"
     ]
    }
   ],
   "source": [
    "gridsearch = GridSearchCV(pipe_2, params, verbose=2, n_jobs=-1).fit(X_train, y_train)\n",
    "print(f'Final score is: {gridsearch.score(X_test, y_test)}')"
   ]
  },
  {
   "cell_type": "code",
   "execution_count": 39,
   "metadata": {},
   "outputs": [
    {
     "data": {
      "text/plain": [
       "{'dim_reduction__n_components': 9,\n",
       " 'imputer__n_neighbors': 5,\n",
       " 'regressor__n_estimators': 51}"
      ]
     },
     "execution_count": 39,
     "metadata": {},
     "output_type": "execute_result"
    }
   ],
   "source": [
    "gridsearch.best_params_"
   ]
  },
  {
   "cell_type": "code",
   "execution_count": null,
   "metadata": {},
   "outputs": [],
   "source": []
  }
 ],
 "metadata": {
  "kernelspec": {
   "display_name": "Python 3",
   "language": "python",
   "name": "python3"
  },
  "language_info": {
   "codemirror_mode": {
    "name": "ipython",
    "version": 3
   },
   "file_extension": ".py",
   "mimetype": "text/x-python",
   "name": "python",
   "nbconvert_exporter": "python",
   "pygments_lexer": "ipython3",
   "version": "3.8.5"
  }
 },
 "nbformat": 4,
 "nbformat_minor": 4
}
