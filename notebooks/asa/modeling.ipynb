{
 "cells": [
  {
   "cell_type": "code",
   "execution_count": 18,
   "metadata": {},
   "outputs": [],
   "source": [
    "import pandas as pd\n",
    "import numpy as np\n",
    "import matplotlib.pyplot as ply\n",
    "import seaborn as sns\n",
    "\n",
    "from sklearn.ensemble import RandomForestRegressor\n",
    "from sklearn.model_selection import train_test_split\n",
    "from sklearn.metrics import mean_absolute_error\n",
    "from sklearn.impute import KNNImputer\n",
    "from sklearn.preprocessing import MinMaxScaler, StandardScaler\n",
    "\n",
    "pd.set_option('max_columns', None)\n",
    "pd.set_option('max_rows', None)"
   ]
  },
  {
   "cell_type": "code",
   "execution_count": 33,
   "metadata": {},
   "outputs": [],
   "source": [
    "X_train = pd.read_csv('../../data/dengue_features_train.csv')\n",
    "y_train = pd.read_csv('../../data/dengue_labels_train.csv', usecols=['total_cases'])"
   ]
  },
  {
   "cell_type": "code",
   "execution_count": 34,
   "metadata": {},
   "outputs": [],
   "source": [
    "def run_rf(df):\n",
    "    #df = knn_impute(df)\n",
    "    X = df.drop('total_cases', axis=1)\n",
    "    y = df['total_cases']\n",
    "    \n",
    "    X = knn_impute(X)\n",
    "    \n",
    "    X_train, X_test, y_train, y_test = train_test_split(X, y, test_size = 0.20, random_state = 42, stratify=df['city'])\n",
    "    \n",
    "    rf_model = RandomForestRegressor(random_state=42)\n",
    "    rf_model.fit(X_train, y_train)\n",
    "    y_pred = rf_model.predict(X_test)\n",
    "    print(f'MAE:{mean_absolute_error(y_test, y_pred)}')\n",
    "    return rf_model"
   ]
  },
  {
   "cell_type": "code",
   "execution_count": 35,
   "metadata": {},
   "outputs": [],
   "source": [
    "def knn_impute(df):\n",
    "    scaled_df = scaling(df)\n",
    "    imputer = KNNImputer(n_neighbors=5)\n",
    "    imputed = imputer.fit_transform(scaled_df)\n",
    "    \n",
    "    return pd.DataFrame(imputed, columns=df.columns)"
   ]
  },
  {
   "cell_type": "code",
   "execution_count": 36,
   "metadata": {},
   "outputs": [],
   "source": [
    "def scaling(df):\n",
    "    scaler = StandardScaler()\n",
    "    df_scaled = pd.DataFrame(scaler.fit_transform(df), columns = df.columns)\n",
    "    return df_scaled"
   ]
  },
  {
   "cell_type": "code",
   "execution_count": 37,
   "metadata": {},
   "outputs": [],
   "source": [
    "def data_preprocess(df):\n",
    "    # drop or encode categorical cols\n",
    "    df_processed = df.drop('week_start_date', axis=1)\n",
    "    df_processed['city'] = df_processed['city'].apply(lambda x : 1 if x=='iq' else 0)\n",
    "    return df_processed"
   ]
  },
  {
   "cell_type": "code",
   "execution_count": 39,
   "metadata": {},
   "outputs": [
    {
     "name": "stdout",
     "output_type": "stream",
     "text": [
      "MAE:12.832431506849314\n"
     ]
    }
   ],
   "source": [
    "df = pd.concat([X_train, y_train], axis=1)\n",
    "df_processed = data_preprocess(df)\n",
    "rf_model = run_rf(df_processed)"
   ]
  },
  {
   "cell_type": "code",
   "execution_count": 62,
   "metadata": {},
   "outputs": [],
   "source": [
    "X_submit = pd.read_csv('../../data/dengue_features_test.csv')\n",
    "y_submit = pd.read_csv('../../data/submission_format.csv')"
   ]
  },
  {
   "cell_type": "code",
   "execution_count": 63,
   "metadata": {},
   "outputs": [
    {
     "data": {
      "text/plain": [
       "array([ 17.,  17.,  24.,  26.,  20.,  22.,  22.,  73.,  23.,  29.,  27.,\n",
       "        34.,  57.,  95.,  62., 156.,  77.,  92., 174.,  93.,  87., 101.,\n",
       "       111., 102., 120.,  95., 132.,  99., 179., 125., 118., 144., 103.,\n",
       "       101.,  87.,  35.,  49.,  38.,  32.,  36.,  30.,  25.,  25.,  30.,\n",
       "        29.,  22.,  22.,  19.,  24.,  20.,  21.,  20.,  21.,  21.,  20.,\n",
       "        20.,  24.,  24.,  22.,  27.,  34.,  48.,  46.,  45.,  53.,  94.,\n",
       "        93.,  94., 116., 144., 211., 178., 215., 205., 216., 205., 193.,\n",
       "       174., 251., 222., 212., 225., 204., 208., 197., 213., 214.,  89.,\n",
       "        49.,  57.,  60.,  52.,  51.,  50.,  52.,  50.,  45.,  47.,  41.,\n",
       "        44.,  40.,  40.,  34.,  39.,  45.,  63.,  44.,  49.,  43.,  84.,\n",
       "        85.,  67.,  74.,  91.,  97., 110., 103., 112., 121., 179., 160.,\n",
       "       149., 153., 141.,  87., 116.,  99.,  74., 105.,  86., 181., 109.,\n",
       "        89.,  80.,  98., 108.,  93.,  84.,  87.,  26.,  18.,  17.,  19.,\n",
       "        20.,  19.,  16.,  16.,  11.,  11.,   8.,   8.,   6.,   6.,   7.,\n",
       "         6.,   6.,   6.,  10.,   7.,   7.,   8.,  14.,  17.,  26.,  34.,\n",
       "        27.,  25.,  20.,  26.,  27.,  25.,  29.,  19.,  32.,  30.,  18.,\n",
       "        31.,  19.,  24.,  28.,  25.,  19.,  22.,  25.,  22.,  23.,  24.,\n",
       "        21.,  20.,  28.,  23.,  22.,  22.,  17.,  16.,  14.,  12.,  12.,\n",
       "        11.,  10.,   9.,   5.,   8.,   7.,   6.,   4.,   6.,   5.,   4.,\n",
       "         7.,   8.,  12.,   6.,   8.,  14.,  16.,  29.,  26.,  14.,  12.,\n",
       "        13.,  19.,  14.,  22.,  38.,  22.,  19.,  25.,  34.,  36.,  34.,\n",
       "        34.,  22.,  30.,  26.,  27.,  32.,  26.,  23.,  22.,  21.,  21.,\n",
       "        18.,  14.,  14.,  14.,  14.,  15.,  11.,  10.,   9.,   9.,   9.,\n",
       "         7.,   6.,   9.,   6.,   7.,   6.,   5.,  86., 100.,  82., 105.,\n",
       "       125., 170., 186., 156., 182., 218., 191., 220., 181., 210., 199.,\n",
       "       191., 156., 143., 152., 140., 130., 105., 148.,  98., 159., 182.,\n",
       "        12.,  16.,  10.,   8.,  13.,   7.,  11.,  11.,  12.,   9.,   7.,\n",
       "        10.,  10.,  10.,   9.,   5.,   7.,   9.,   9.,   6.,   8.,   7.,\n",
       "         5.,   7.,   7.,   6.,   6.,   6.,   5.,   6.,   6.,   6.,   7.,\n",
       "         6.,   6.,   6.,   6.,  10.,   8.,  10.,  11.,  12.,  19.,  18.,\n",
       "        13.,  14.,  18.,  11.,  16.,  27.,  24.,  18.,  10.,  11.,  10.,\n",
       "        13.,   8.,   9.,  13.,  14.,  14.,  10.,   8.,   4.,   5.,   9.,\n",
       "         4.,   7.,   6.,   5.,   5.,   3.,   5.,   3.,   4.,   4.,   4.,\n",
       "         5.,   5.,   3.,   5.,   5.,   4.,   4.,   4.,   4.,   4.,   5.,\n",
       "         4.,   6.,   8.,   9.,  12.,  10.,  11.,  15.,  12.,  12.,  23.,\n",
       "        20.,   9.,  12.,  23.,   9.,  14.,  13.,  12.,  18.,  14.,  20.,\n",
       "        17.,  12.,  11.,  10.,   9.,   9.,   8.,   7.,   5.,   6.,   6.,\n",
       "         5.,   4.,   5.,   3.,   5.,   5.,   3.,   4.,   3.])"
      ]
     },
     "execution_count": 63,
     "metadata": {},
     "output_type": "execute_result"
    }
   ],
   "source": [
    "X_submit_processed = data_preprocess(X_submit)\n",
    "X_submit_imputed = knn_impute(X_submit_processed)\n",
    "y_submit_pred = np.rint(rf_model.predict(X_submit_imputed))\n",
    "y_submit_pred"
   ]
  },
  {
   "cell_type": "code",
   "execution_count": 65,
   "metadata": {},
   "outputs": [],
   "source": [
    "y_submit['total_cases'] = y_submit_pred\n",
    "y_submit['total_cases'] = y_submit['total_cases'].astype(int)"
   ]
  },
  {
   "cell_type": "code",
   "execution_count": 66,
   "metadata": {},
   "outputs": [
    {
     "data": {
      "text/html": [
       "<div>\n",
       "<style scoped>\n",
       "    .dataframe tbody tr th:only-of-type {\n",
       "        vertical-align: middle;\n",
       "    }\n",
       "\n",
       "    .dataframe tbody tr th {\n",
       "        vertical-align: top;\n",
       "    }\n",
       "\n",
       "    .dataframe thead th {\n",
       "        text-align: right;\n",
       "    }\n",
       "</style>\n",
       "<table border=\"1\" class=\"dataframe\">\n",
       "  <thead>\n",
       "    <tr style=\"text-align: right;\">\n",
       "      <th></th>\n",
       "      <th>city</th>\n",
       "      <th>year</th>\n",
       "      <th>weekofyear</th>\n",
       "      <th>total_cases</th>\n",
       "    </tr>\n",
       "  </thead>\n",
       "  <tbody>\n",
       "    <tr>\n",
       "      <th>0</th>\n",
       "      <td>sj</td>\n",
       "      <td>2008</td>\n",
       "      <td>18</td>\n",
       "      <td>17</td>\n",
       "    </tr>\n",
       "    <tr>\n",
       "      <th>1</th>\n",
       "      <td>sj</td>\n",
       "      <td>2008</td>\n",
       "      <td>19</td>\n",
       "      <td>17</td>\n",
       "    </tr>\n",
       "    <tr>\n",
       "      <th>2</th>\n",
       "      <td>sj</td>\n",
       "      <td>2008</td>\n",
       "      <td>20</td>\n",
       "      <td>24</td>\n",
       "    </tr>\n",
       "    <tr>\n",
       "      <th>3</th>\n",
       "      <td>sj</td>\n",
       "      <td>2008</td>\n",
       "      <td>21</td>\n",
       "      <td>26</td>\n",
       "    </tr>\n",
       "    <tr>\n",
       "      <th>4</th>\n",
       "      <td>sj</td>\n",
       "      <td>2008</td>\n",
       "      <td>22</td>\n",
       "      <td>20</td>\n",
       "    </tr>\n",
       "  </tbody>\n",
       "</table>\n",
       "</div>"
      ],
      "text/plain": [
       "  city  year  weekofyear  total_cases\n",
       "0   sj  2008          18           17\n",
       "1   sj  2008          19           17\n",
       "2   sj  2008          20           24\n",
       "3   sj  2008          21           26\n",
       "4   sj  2008          22           20"
      ]
     },
     "execution_count": 66,
     "metadata": {},
     "output_type": "execute_result"
    }
   ],
   "source": [
    "y_submit.head()"
   ]
  },
  {
   "cell_type": "code",
   "execution_count": 67,
   "metadata": {},
   "outputs": [
    {
     "data": {
      "text/html": [
       "<div>\n",
       "<style scoped>\n",
       "    .dataframe tbody tr th:only-of-type {\n",
       "        vertical-align: middle;\n",
       "    }\n",
       "\n",
       "    .dataframe tbody tr th {\n",
       "        vertical-align: top;\n",
       "    }\n",
       "\n",
       "    .dataframe thead th {\n",
       "        text-align: right;\n",
       "    }\n",
       "</style>\n",
       "<table border=\"1\" class=\"dataframe\">\n",
       "  <thead>\n",
       "    <tr style=\"text-align: right;\">\n",
       "      <th></th>\n",
       "      <th>city</th>\n",
       "      <th>year</th>\n",
       "      <th>weekofyear</th>\n",
       "      <th>total_cases</th>\n",
       "    </tr>\n",
       "  </thead>\n",
       "  <tbody>\n",
       "    <tr>\n",
       "      <th>406</th>\n",
       "      <td>iq</td>\n",
       "      <td>2013</td>\n",
       "      <td>17</td>\n",
       "      <td>6</td>\n",
       "    </tr>\n",
       "    <tr>\n",
       "      <th>407</th>\n",
       "      <td>iq</td>\n",
       "      <td>2013</td>\n",
       "      <td>18</td>\n",
       "      <td>5</td>\n",
       "    </tr>\n",
       "    <tr>\n",
       "      <th>408</th>\n",
       "      <td>iq</td>\n",
       "      <td>2013</td>\n",
       "      <td>19</td>\n",
       "      <td>4</td>\n",
       "    </tr>\n",
       "    <tr>\n",
       "      <th>409</th>\n",
       "      <td>iq</td>\n",
       "      <td>2013</td>\n",
       "      <td>20</td>\n",
       "      <td>5</td>\n",
       "    </tr>\n",
       "    <tr>\n",
       "      <th>410</th>\n",
       "      <td>iq</td>\n",
       "      <td>2013</td>\n",
       "      <td>21</td>\n",
       "      <td>3</td>\n",
       "    </tr>\n",
       "    <tr>\n",
       "      <th>411</th>\n",
       "      <td>iq</td>\n",
       "      <td>2013</td>\n",
       "      <td>22</td>\n",
       "      <td>5</td>\n",
       "    </tr>\n",
       "    <tr>\n",
       "      <th>412</th>\n",
       "      <td>iq</td>\n",
       "      <td>2013</td>\n",
       "      <td>23</td>\n",
       "      <td>5</td>\n",
       "    </tr>\n",
       "    <tr>\n",
       "      <th>413</th>\n",
       "      <td>iq</td>\n",
       "      <td>2013</td>\n",
       "      <td>24</td>\n",
       "      <td>3</td>\n",
       "    </tr>\n",
       "    <tr>\n",
       "      <th>414</th>\n",
       "      <td>iq</td>\n",
       "      <td>2013</td>\n",
       "      <td>25</td>\n",
       "      <td>4</td>\n",
       "    </tr>\n",
       "    <tr>\n",
       "      <th>415</th>\n",
       "      <td>iq</td>\n",
       "      <td>2013</td>\n",
       "      <td>26</td>\n",
       "      <td>3</td>\n",
       "    </tr>\n",
       "  </tbody>\n",
       "</table>\n",
       "</div>"
      ],
      "text/plain": [
       "    city  year  weekofyear  total_cases\n",
       "406   iq  2013          17            6\n",
       "407   iq  2013          18            5\n",
       "408   iq  2013          19            4\n",
       "409   iq  2013          20            5\n",
       "410   iq  2013          21            3\n",
       "411   iq  2013          22            5\n",
       "412   iq  2013          23            5\n",
       "413   iq  2013          24            3\n",
       "414   iq  2013          25            4\n",
       "415   iq  2013          26            3"
      ]
     },
     "execution_count": 67,
     "metadata": {},
     "output_type": "execute_result"
    }
   ],
   "source": [
    "y_submit.tail(10)"
   ]
  },
  {
   "cell_type": "markdown",
   "metadata": {},
   "source": [
    "## \"dengue_submission_01_rf01.csv\" is the initial submission with Random Forest, Standard Scaling and KNN imputing (n_neighbors = 5)"
   ]
  },
  {
   "cell_type": "code",
   "execution_count": 70,
   "metadata": {},
   "outputs": [],
   "source": [
    "y_submit.to_csv('../../data/dengue_submission_01_rf01.csv', index = False)"
   ]
  },
  {
   "cell_type": "code",
   "execution_count": 71,
   "metadata": {},
   "outputs": [
    {
     "data": {
      "text/html": [
       "<div>\n",
       "<style scoped>\n",
       "    .dataframe tbody tr th:only-of-type {\n",
       "        vertical-align: middle;\n",
       "    }\n",
       "\n",
       "    .dataframe tbody tr th {\n",
       "        vertical-align: top;\n",
       "    }\n",
       "\n",
       "    .dataframe thead th {\n",
       "        text-align: right;\n",
       "    }\n",
       "</style>\n",
       "<table border=\"1\" class=\"dataframe\">\n",
       "  <thead>\n",
       "    <tr style=\"text-align: right;\">\n",
       "      <th></th>\n",
       "      <th>city</th>\n",
       "      <th>year</th>\n",
       "      <th>weekofyear</th>\n",
       "      <th>total_cases</th>\n",
       "    </tr>\n",
       "  </thead>\n",
       "  <tbody>\n",
       "    <tr>\n",
       "      <th>0</th>\n",
       "      <td>sj</td>\n",
       "      <td>2008</td>\n",
       "      <td>18</td>\n",
       "      <td>17</td>\n",
       "    </tr>\n",
       "    <tr>\n",
       "      <th>1</th>\n",
       "      <td>sj</td>\n",
       "      <td>2008</td>\n",
       "      <td>19</td>\n",
       "      <td>17</td>\n",
       "    </tr>\n",
       "    <tr>\n",
       "      <th>2</th>\n",
       "      <td>sj</td>\n",
       "      <td>2008</td>\n",
       "      <td>20</td>\n",
       "      <td>24</td>\n",
       "    </tr>\n",
       "    <tr>\n",
       "      <th>3</th>\n",
       "      <td>sj</td>\n",
       "      <td>2008</td>\n",
       "      <td>21</td>\n",
       "      <td>26</td>\n",
       "    </tr>\n",
       "    <tr>\n",
       "      <th>4</th>\n",
       "      <td>sj</td>\n",
       "      <td>2008</td>\n",
       "      <td>22</td>\n",
       "      <td>20</td>\n",
       "    </tr>\n",
       "  </tbody>\n",
       "</table>\n",
       "</div>"
      ],
      "text/plain": [
       "  city  year  weekofyear  total_cases\n",
       "0   sj  2008          18           17\n",
       "1   sj  2008          19           17\n",
       "2   sj  2008          20           24\n",
       "3   sj  2008          21           26\n",
       "4   sj  2008          22           20"
      ]
     },
     "execution_count": 71,
     "metadata": {},
     "output_type": "execute_result"
    }
   ],
   "source": [
    "y_sub = pd.read_csv('../../data/dengue_submission_01_rf01.csv')\n",
    "y_sub.head()"
   ]
  },
  {
   "cell_type": "code",
   "execution_count": null,
   "metadata": {},
   "outputs": [],
   "source": []
  }
 ],
 "metadata": {
  "kernelspec": {
   "display_name": "Python 3",
   "language": "python",
   "name": "python3"
  },
  "language_info": {
   "codemirror_mode": {
    "name": "ipython",
    "version": 3
   },
   "file_extension": ".py",
   "mimetype": "text/x-python",
   "name": "python",
   "nbconvert_exporter": "python",
   "pygments_lexer": "ipython3",
   "version": "3.7.4"
  }
 },
 "nbformat": 4,
 "nbformat_minor": 4
}
