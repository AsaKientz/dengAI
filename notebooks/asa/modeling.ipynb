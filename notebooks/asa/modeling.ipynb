{
 "cells": [
  {
   "cell_type": "code",
   "execution_count": 2,
   "metadata": {},
   "outputs": [
    {
     "name": "stderr",
     "output_type": "stream",
     "text": [
      "/home/asa/anaconda3/lib/python3.7/site-packages/statsmodels/tools/_testing.py:19: FutureWarning: pandas.util.testing is deprecated. Use the functions in the public API at pandas.testing instead.\n",
      "  import pandas.util.testing as tm\n"
     ]
    }
   ],
   "source": [
    "import pandas as pd\n",
    "import numpy as np\n",
    "import matplotlib.pyplot as ply\n",
    "import seaborn as sns\n",
    "\n",
    "from sklearn.ensemble import RandomForestRegressor\n",
    "from sklearn.model_selection import train_test_split\n",
    "from sklearn.metrics import mean_absolute_error\n",
    "from sklearn.impute import KNNImputer\n",
    "from sklearn.preprocessing import MinMaxScaler, StandardScaler\n",
    "\n",
    "pd.set_option('max_columns', None)\n",
    "pd.set_option('max_rows', None)"
   ]
  },
  {
   "cell_type": "code",
   "execution_count": 3,
   "metadata": {},
   "outputs": [],
   "source": [
    "X_train = pd.read_csv('../../data/dengue_features_train.csv')\n",
    "y_train = pd.read_csv('../../data/dengue_labels_train.csv', usecols=['total_cases'])"
   ]
  },
  {
   "cell_type": "code",
   "execution_count": 4,
   "metadata": {},
   "outputs": [],
   "source": [
    "def run_rf_train(df):\n",
    "    #df = knn_impute(df)\n",
    "    X = df.drop('total_cases', axis=1)\n",
    "    y = df['total_cases']\n",
    "    \n",
    "    X_train, X_test, y_train, y_test = train_test_split(X, y, test_size = 0.20, random_state = 42, stratify=df['city'])\n",
    "    \n",
    "    #X = knn_impute(X)\n",
    "    \n",
    "    X_train_scaled = pd.DataFrame(scaler.fit_transform(X_train), columns = X_train.columns)\n",
    "    \n",
    "    X_train_scaled_imputed = pd.DataFrame(imputer.fit_transform(X_train_scaled), columns = X_train.columns)\n",
    "                                \n",
    "    X_test_scaled = pd.DataFrame(scaler.transform(X_test), columns=X_train.columns)\n",
    "    \n",
    "    X_test_scaled_imputed = pd.DataFrame(imputer.transform(X_test_scaled), columns=X_train.columns)\n",
    "                                          \n",
    "    rf_model.fit(X_train_scaled_imputed, y_train)\n",
    "    y_pred = rf_model.predict(X_test_scaled_imputed)\n",
    "    print(f'MAE:{mean_absolute_error(y_test, y_pred)}')\n",
    "    return mean_absolute_error(y_test, y_pred)"
   ]
  },
  {
   "cell_type": "code",
   "execution_count": null,
   "metadata": {},
   "outputs": [],
   "source": [
    "def knn_impute(df):\n",
    "    scaled_df = scaling(df)\n",
    "    imputer = KNNImputer(n_neighbors=5)\n",
    "    imputed = imputer.fit_transform(scaled_df)\n",
    "    \n",
    "    return pd.DataFrame(imputed, columns=df.columns)"
   ]
  },
  {
   "cell_type": "code",
   "execution_count": null,
   "metadata": {},
   "outputs": [],
   "source": [
    "def scaling(df):\n",
    "    scaler = StandardScaler()\n",
    "    df_scaled = pd.DataFrame(scaler.fit_transform(df), columns = df.columns)\n",
    "    return df_scaled"
   ]
  },
  {
   "cell_type": "code",
   "execution_count": 5,
   "metadata": {},
   "outputs": [],
   "source": [
    "def data_preprocess(df):\n",
    "    # drop or encode categorical cols\n",
    "    df_processed = df.drop('week_start_date', axis=1)\n",
    "    df_processed['city'] = df_processed['city'].apply(lambda x : 1 if x=='iq' else 0)\n",
    "    return df_processed"
   ]
  },
  {
   "cell_type": "code",
   "execution_count": 9,
   "metadata": {},
   "outputs": [
    {
     "name": "stdout",
     "output_type": "stream",
     "text": [
      "MAE:12.493493150684932\n",
      "MAE:12.403082191780822\n",
      "MAE:12.477260273972602\n",
      "MAE:12.731457925636008\n",
      "MAE:12.684208523592085\n",
      "MAE:12.673910336239102\n",
      "MAE:12.676080084299263\n",
      "MAE:12.7262100456621\n",
      "MAE:12.851470588235294\n",
      "MAE:12.82490987743331\n",
      "MAE:13.441438356164383\n",
      "MAE:12.971461187214613\n",
      "MAE:12.982945205479451\n",
      "MAE:13.123434442270058\n",
      "MAE:12.922564687975648\n",
      "MAE:13.029576587795766\n",
      "MAE:13.052291886195997\n",
      "MAE:12.967671232876713\n",
      "MAE:13.08015713134569\n",
      "MAE:13.111247296323\n",
      "MAE:12.844520547945207\n",
      "MAE:12.604223744292238\n",
      "MAE:12.707808219178084\n",
      "MAE:12.85151663405088\n",
      "MAE:12.78668188736682\n",
      "MAE:12.992559153175591\n",
      "MAE:12.957797681770286\n",
      "MAE:12.899771689497717\n",
      "MAE:12.981567284448026\n",
      "MAE:13.013248017303534\n",
      "MAE:13.013356164383563\n",
      "MAE:12.758333333333333\n",
      "MAE:12.70917808219178\n",
      "MAE:12.706066536203522\n",
      "MAE:12.718721461187215\n",
      "MAE:12.841998754669987\n",
      "MAE:12.853108535300317\n",
      "MAE:12.832237442922375\n",
      "MAE:13.041498791297341\n",
      "MAE:13.05409156452776\n",
      "MAE:14.238698630136986\n",
      "MAE:13.679566210045662\n",
      "MAE:13.277465753424655\n",
      "MAE:13.18586105675147\n",
      "MAE:12.96407914764079\n",
      "MAE:13.01911581569116\n",
      "MAE:13.002687038988407\n",
      "MAE:13.017374429223745\n",
      "MAE:13.166518936341662\n",
      "MAE:13.173521989906273\n",
      "MAE:14.00958904109589\n",
      "MAE:13.24349315068493\n",
      "MAE:12.87554794520548\n",
      "MAE:12.826125244618396\n",
      "MAE:12.835806697108067\n",
      "MAE:12.881600249066002\n",
      "MAE:12.935010537407798\n",
      "MAE:12.861529680365297\n",
      "MAE:13.017143432715551\n",
      "MAE:12.971557317952415\n",
      "MAE:13.082876712328767\n",
      "MAE:12.817579908675798\n",
      "MAE:12.828972602739725\n",
      "MAE:12.753424657534246\n",
      "MAE:12.737937595129376\n",
      "MAE:12.770205479452054\n",
      "MAE:12.859114857744995\n",
      "MAE:12.781461187214612\n",
      "MAE:12.926450443190975\n",
      "MAE:12.892772170151407\n",
      "MAE:13.259931506849314\n",
      "MAE:13.030821917808218\n",
      "MAE:13.016986301369862\n",
      "MAE:12.987035225048922\n",
      "MAE:12.901027397260272\n",
      "MAE:12.958935242839354\n",
      "MAE:13.003266596417284\n",
      "MAE:12.972397260273972\n",
      "MAE:13.086039484286866\n",
      "MAE:13.018204758471521\n",
      "MAE:12.475342465753425\n",
      "MAE:12.956164383561644\n",
      "MAE:12.898972602739725\n",
      "MAE:12.777641878669275\n",
      "MAE:12.88234398782344\n",
      "MAE:12.950778331257784\n",
      "MAE:12.980769230769232\n",
      "MAE:13.005684931506847\n",
      "MAE:13.061482675261885\n",
      "MAE:13.028136265320835\n"
     ]
    }
   ],
   "source": [
    "df = pd.concat([X_train, y_train], axis=1)\n",
    "df_processed = data_preprocess(df)\n",
    "\n",
    "scaler = StandardScaler()\n",
    "imputer_n_neighbors = np.arange(2,11)\n",
    "rf_n_estimators = np.arange(10, 200, 20)\n",
    "results_dict = {}\n",
    "\n",
    "for a in imputer_n_neighbors:\n",
    "    for b in rf_n_estimators:\n",
    "        imputer = KNNImputer(n_neighbors=a)\n",
    "        rf_model = RandomForestRegressor(random_state=42, n_estimators = b)\n",
    "        mae = run_rf_train(df_processed)\n",
    "        results_dict[(a,b)] = mae"
   ]
  },
  {
   "cell_type": "code",
   "execution_count": 24,
   "metadata": {},
   "outputs": [
    {
     "name": "stdout",
     "output_type": "stream",
     "text": [
      "Best mae score of 12.403082191780822 is (2, 30)\n"
     ]
    }
   ],
   "source": [
    "min_mae_score = np.min(list(results_dict.values()))\n",
    "min_mae_score\n",
    "for k, v in results_dict.items():\n",
    "    if v == min_mae_score:\n",
    "        print(f'Best mae score of {min_mae_score} is {k}')"
   ]
  },
  {
   "cell_type": "code",
   "execution_count": 7,
   "metadata": {},
   "outputs": [],
   "source": [
    "X_submit = pd.read_csv('../../data/dengue_features_test.csv')\n",
    "y_submit = pd.read_csv('../../data/submission_format.csv')"
   ]
  },
  {
   "cell_type": "code",
   "execution_count": 8,
   "metadata": {},
   "outputs": [
    {
     "data": {
      "text/plain": [
       "array([ 5.,  5.,  6.,  8., 10., 10., 14., 16., 18., 21., 23., 25., 28.,\n",
       "       34., 53., 57., 46., 61., 80., 73., 68., 46., 39., 54., 47., 30.,\n",
       "       30., 41., 36., 32., 26., 26., 13., 17., 18., 16., 14., 16., 14.,\n",
       "       14., 12., 11.,  8., 11.,  7.,  7.,  7.,  5.,  5.,  4.,  6.,  5.,\n",
       "        6.,  6.,  8.,  6., 10.,  8.,  8., 11., 11., 27., 33., 33., 39.,\n",
       "       50., 56., 59., 70., 62., 68., 38., 63., 63., 72., 71., 78., 72.,\n",
       "       53., 32., 32., 39., 39., 31., 22., 24., 25., 23., 16., 13., 16.,\n",
       "       17., 12., 18., 14., 12., 14., 10.,  7., 13., 15.,  7.,  5.,  5.,\n",
       "       12., 13., 12., 18., 12., 31., 38., 42., 23., 30., 45., 50., 34.,\n",
       "       25., 52., 69., 68., 73., 95., 89., 75., 76., 73., 73., 98., 64.,\n",
       "       53., 40., 39., 26., 21., 20., 30., 18., 20., 22., 15., 12., 17.,\n",
       "       17., 14., 12., 14., 10.,  9.,  6.,  8.,  6.,  7.,  6.,  6.,  5.,\n",
       "        6., 11.,  7.,  5.,  9., 13., 16., 31., 55., 44., 27., 34., 34.,\n",
       "       40., 35., 46., 59., 52., 60., 59., 66., 34., 50., 68., 66., 40.,\n",
       "       32., 39., 32., 29., 28., 28., 21., 31., 20., 21., 18., 15., 15.,\n",
       "       13., 12., 11., 11., 10.,  9.,  6.,  7.,  7.,  6.,  4.,  5.,  5.,\n",
       "        5.,  7.,  6., 16.,  8.,  7., 13., 22., 45., 41., 27., 18., 25.,\n",
       "       31., 42., 42., 64., 61., 27., 57., 66., 63., 70., 64., 58., 63.,\n",
       "       65., 72., 55., 41., 43., 28., 28., 19., 18., 13., 16., 13., 13.,\n",
       "       15., 11., 11.,  9.,  8.,  9.,  7.,  7.,  7.,  6., 13.,  6.,  4.,\n",
       "        5.,  3.,  7.,  4.,  4.,  5.,  5.,  5., 10., 12.,  6.,  8., 11.,\n",
       "       16., 59., 11., 20., 14., 13., 17., 13., 14., 22.,  9., 14., 15.,\n",
       "       12., 21., 14., 14., 16., 10., 15., 16., 13., 12., 10., 10.,  9.,\n",
       "        8.,  8.,  5.,  6.,  7.,  7.,  5.,  4.,  5.,  3.,  5.,  4.,  3.,\n",
       "        3.,  3.,  3.,  5.,  3.,  4.,  5.,  4.,  4.,  5.,  3.,  8.,  7.,\n",
       "        7.,  9.,  8., 16., 16., 12., 14., 17., 10., 11., 16., 20., 18.,\n",
       "       12., 16., 13., 16., 11.,  9., 18., 18., 15., 13., 11.,  4.,  6.,\n",
       "        9.,  4.,  7.,  6.,  6.,  5.,  2.,  6.,  3.,  3.,  4.,  4.,  5.,\n",
       "        5.,  4.,  5.,  5.,  4.,  3.,  4.,  5.,  5.,  6.,  4.,  6., 11.,\n",
       "        8., 12., 12., 11., 17., 14., 11., 19., 18.,  9., 12., 20.,  9.,\n",
       "       15., 12., 13., 16., 14., 18., 17., 13., 11., 10.,  9.,  9.,  8.,\n",
       "        7.,  5.,  6.,  6.,  5.,  6.,  6.,  3.,  5.,  4.,  2.,  4.,  3.])"
      ]
     },
     "execution_count": 8,
     "metadata": {},
     "output_type": "execute_result"
    }
   ],
   "source": [
    "X_submit_processed = data_preprocess(X_submit)\n",
    "\n",
    "X_submit_scaled = pd.DataFrame(scaler.transform(X_submit_processed), columns=X_submit_processed.columns)\n",
    "\n",
    "X_submit_imputed = pd.DataFrame(imputer.transform(X_submit_scaled), columns=X_submit_processed.columns)\n",
    "\n",
    "y_submit_pred = np.rint(rf_model.predict(X_submit_imputed))\n",
    "y_submit_pred"
   ]
  },
  {
   "cell_type": "code",
   "execution_count": 9,
   "metadata": {},
   "outputs": [],
   "source": [
    "y_submit['total_cases'] = y_submit_pred\n",
    "y_submit['total_cases'] = y_submit['total_cases'].astype(int)"
   ]
  },
  {
   "cell_type": "code",
   "execution_count": 10,
   "metadata": {},
   "outputs": [
    {
     "data": {
      "text/html": [
       "<div>\n",
       "<style scoped>\n",
       "    .dataframe tbody tr th:only-of-type {\n",
       "        vertical-align: middle;\n",
       "    }\n",
       "\n",
       "    .dataframe tbody tr th {\n",
       "        vertical-align: top;\n",
       "    }\n",
       "\n",
       "    .dataframe thead th {\n",
       "        text-align: right;\n",
       "    }\n",
       "</style>\n",
       "<table border=\"1\" class=\"dataframe\">\n",
       "  <thead>\n",
       "    <tr style=\"text-align: right;\">\n",
       "      <th></th>\n",
       "      <th>city</th>\n",
       "      <th>year</th>\n",
       "      <th>weekofyear</th>\n",
       "      <th>total_cases</th>\n",
       "    </tr>\n",
       "  </thead>\n",
       "  <tbody>\n",
       "    <tr>\n",
       "      <th>0</th>\n",
       "      <td>sj</td>\n",
       "      <td>2008</td>\n",
       "      <td>18</td>\n",
       "      <td>5</td>\n",
       "    </tr>\n",
       "    <tr>\n",
       "      <th>1</th>\n",
       "      <td>sj</td>\n",
       "      <td>2008</td>\n",
       "      <td>19</td>\n",
       "      <td>5</td>\n",
       "    </tr>\n",
       "    <tr>\n",
       "      <th>2</th>\n",
       "      <td>sj</td>\n",
       "      <td>2008</td>\n",
       "      <td>20</td>\n",
       "      <td>6</td>\n",
       "    </tr>\n",
       "    <tr>\n",
       "      <th>3</th>\n",
       "      <td>sj</td>\n",
       "      <td>2008</td>\n",
       "      <td>21</td>\n",
       "      <td>8</td>\n",
       "    </tr>\n",
       "    <tr>\n",
       "      <th>4</th>\n",
       "      <td>sj</td>\n",
       "      <td>2008</td>\n",
       "      <td>22</td>\n",
       "      <td>10</td>\n",
       "    </tr>\n",
       "  </tbody>\n",
       "</table>\n",
       "</div>"
      ],
      "text/plain": [
       "  city  year  weekofyear  total_cases\n",
       "0   sj  2008          18            5\n",
       "1   sj  2008          19            5\n",
       "2   sj  2008          20            6\n",
       "3   sj  2008          21            8\n",
       "4   sj  2008          22           10"
      ]
     },
     "execution_count": 10,
     "metadata": {},
     "output_type": "execute_result"
    }
   ],
   "source": [
    "y_submit.head()"
   ]
  },
  {
   "cell_type": "code",
   "execution_count": 11,
   "metadata": {},
   "outputs": [
    {
     "data": {
      "text/html": [
       "<div>\n",
       "<style scoped>\n",
       "    .dataframe tbody tr th:only-of-type {\n",
       "        vertical-align: middle;\n",
       "    }\n",
       "\n",
       "    .dataframe tbody tr th {\n",
       "        vertical-align: top;\n",
       "    }\n",
       "\n",
       "    .dataframe thead th {\n",
       "        text-align: right;\n",
       "    }\n",
       "</style>\n",
       "<table border=\"1\" class=\"dataframe\">\n",
       "  <thead>\n",
       "    <tr style=\"text-align: right;\">\n",
       "      <th></th>\n",
       "      <th>city</th>\n",
       "      <th>year</th>\n",
       "      <th>weekofyear</th>\n",
       "      <th>total_cases</th>\n",
       "    </tr>\n",
       "  </thead>\n",
       "  <tbody>\n",
       "    <tr>\n",
       "      <th>406</th>\n",
       "      <td>iq</td>\n",
       "      <td>2013</td>\n",
       "      <td>17</td>\n",
       "      <td>6</td>\n",
       "    </tr>\n",
       "    <tr>\n",
       "      <th>407</th>\n",
       "      <td>iq</td>\n",
       "      <td>2013</td>\n",
       "      <td>18</td>\n",
       "      <td>5</td>\n",
       "    </tr>\n",
       "    <tr>\n",
       "      <th>408</th>\n",
       "      <td>iq</td>\n",
       "      <td>2013</td>\n",
       "      <td>19</td>\n",
       "      <td>6</td>\n",
       "    </tr>\n",
       "    <tr>\n",
       "      <th>409</th>\n",
       "      <td>iq</td>\n",
       "      <td>2013</td>\n",
       "      <td>20</td>\n",
       "      <td>6</td>\n",
       "    </tr>\n",
       "    <tr>\n",
       "      <th>410</th>\n",
       "      <td>iq</td>\n",
       "      <td>2013</td>\n",
       "      <td>21</td>\n",
       "      <td>3</td>\n",
       "    </tr>\n",
       "    <tr>\n",
       "      <th>411</th>\n",
       "      <td>iq</td>\n",
       "      <td>2013</td>\n",
       "      <td>22</td>\n",
       "      <td>5</td>\n",
       "    </tr>\n",
       "    <tr>\n",
       "      <th>412</th>\n",
       "      <td>iq</td>\n",
       "      <td>2013</td>\n",
       "      <td>23</td>\n",
       "      <td>4</td>\n",
       "    </tr>\n",
       "    <tr>\n",
       "      <th>413</th>\n",
       "      <td>iq</td>\n",
       "      <td>2013</td>\n",
       "      <td>24</td>\n",
       "      <td>2</td>\n",
       "    </tr>\n",
       "    <tr>\n",
       "      <th>414</th>\n",
       "      <td>iq</td>\n",
       "      <td>2013</td>\n",
       "      <td>25</td>\n",
       "      <td>4</td>\n",
       "    </tr>\n",
       "    <tr>\n",
       "      <th>415</th>\n",
       "      <td>iq</td>\n",
       "      <td>2013</td>\n",
       "      <td>26</td>\n",
       "      <td>3</td>\n",
       "    </tr>\n",
       "  </tbody>\n",
       "</table>\n",
       "</div>"
      ],
      "text/plain": [
       "    city  year  weekofyear  total_cases\n",
       "406   iq  2013          17            6\n",
       "407   iq  2013          18            5\n",
       "408   iq  2013          19            6\n",
       "409   iq  2013          20            6\n",
       "410   iq  2013          21            3\n",
       "411   iq  2013          22            5\n",
       "412   iq  2013          23            4\n",
       "413   iq  2013          24            2\n",
       "414   iq  2013          25            4\n",
       "415   iq  2013          26            3"
      ]
     },
     "execution_count": 11,
     "metadata": {},
     "output_type": "execute_result"
    }
   ],
   "source": [
    "y_submit.tail(10)"
   ]
  },
  {
   "cell_type": "markdown",
   "metadata": {},
   "source": [
    "## \"dengue_submission_01_rf01.csv\" is the initial submission with Random Forest, Standard Scaling and KNN imputing (n_neighbors = 5)\n",
    "\n",
    "## \"dengue_submission_02_rf01.csv\" fixes data leakage"
   ]
  },
  {
   "cell_type": "code",
   "execution_count": 13,
   "metadata": {},
   "outputs": [],
   "source": [
    "y_submit.to_csv('../../data/dengue_submission_02_rf01.csv', index = False)"
   ]
  },
  {
   "cell_type": "code",
   "execution_count": 14,
   "metadata": {},
   "outputs": [
    {
     "data": {
      "text/html": [
       "<div>\n",
       "<style scoped>\n",
       "    .dataframe tbody tr th:only-of-type {\n",
       "        vertical-align: middle;\n",
       "    }\n",
       "\n",
       "    .dataframe tbody tr th {\n",
       "        vertical-align: top;\n",
       "    }\n",
       "\n",
       "    .dataframe thead th {\n",
       "        text-align: right;\n",
       "    }\n",
       "</style>\n",
       "<table border=\"1\" class=\"dataframe\">\n",
       "  <thead>\n",
       "    <tr style=\"text-align: right;\">\n",
       "      <th></th>\n",
       "      <th>city</th>\n",
       "      <th>year</th>\n",
       "      <th>weekofyear</th>\n",
       "      <th>total_cases</th>\n",
       "    </tr>\n",
       "  </thead>\n",
       "  <tbody>\n",
       "    <tr>\n",
       "      <th>0</th>\n",
       "      <td>sj</td>\n",
       "      <td>2008</td>\n",
       "      <td>18</td>\n",
       "      <td>5</td>\n",
       "    </tr>\n",
       "    <tr>\n",
       "      <th>1</th>\n",
       "      <td>sj</td>\n",
       "      <td>2008</td>\n",
       "      <td>19</td>\n",
       "      <td>5</td>\n",
       "    </tr>\n",
       "    <tr>\n",
       "      <th>2</th>\n",
       "      <td>sj</td>\n",
       "      <td>2008</td>\n",
       "      <td>20</td>\n",
       "      <td>6</td>\n",
       "    </tr>\n",
       "    <tr>\n",
       "      <th>3</th>\n",
       "      <td>sj</td>\n",
       "      <td>2008</td>\n",
       "      <td>21</td>\n",
       "      <td>8</td>\n",
       "    </tr>\n",
       "    <tr>\n",
       "      <th>4</th>\n",
       "      <td>sj</td>\n",
       "      <td>2008</td>\n",
       "      <td>22</td>\n",
       "      <td>10</td>\n",
       "    </tr>\n",
       "  </tbody>\n",
       "</table>\n",
       "</div>"
      ],
      "text/plain": [
       "  city  year  weekofyear  total_cases\n",
       "0   sj  2008          18            5\n",
       "1   sj  2008          19            5\n",
       "2   sj  2008          20            6\n",
       "3   sj  2008          21            8\n",
       "4   sj  2008          22           10"
      ]
     },
     "execution_count": 14,
     "metadata": {},
     "output_type": "execute_result"
    }
   ],
   "source": [
    "y_sub = pd.read_csv('../../data/dengue_submission_02_rf01.csv')\n",
    "y_sub.head()"
   ]
  },
  {
   "cell_type": "markdown",
   "metadata": {},
   "source": [
    "### 1/7/21 - Next steps for RF model:\n",
    "- Set up a pipeline for simplified data processing\n",
    "- adjust RF model hyperparameters (n_estimators, tree depth, ...)\n",
    "- evalulate different imputers / imputer options\n",
    "- Try feature reduction (e.g., duplicated columns, PCA)\n",
    "- Try a feature selection technique - Recursive Feature Elimination (RFE)"
   ]
  },
  {
   "cell_type": "code",
   "execution_count": null,
   "metadata": {},
   "outputs": [],
   "source": []
  }
 ],
 "metadata": {
  "kernelspec": {
   "display_name": "Python 3",
   "language": "python",
   "name": "python3"
  },
  "language_info": {
   "codemirror_mode": {
    "name": "ipython",
    "version": 3
   },
   "file_extension": ".py",
   "mimetype": "text/x-python",
   "name": "python",
   "nbconvert_exporter": "python",
   "pygments_lexer": "ipython3",
   "version": "3.7.4"
  }
 },
 "nbformat": 4,
 "nbformat_minor": 4
}
