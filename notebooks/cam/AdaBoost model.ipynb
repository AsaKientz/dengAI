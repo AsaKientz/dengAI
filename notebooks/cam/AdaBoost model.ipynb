{
 "cells": [
  {
   "cell_type": "code",
   "execution_count": 1,
   "metadata": {},
   "outputs": [],
   "source": [
    "import pandas as pd\n",
    "import numpy as np\n",
    "import matplotlib.pyplot as ply\n",
    "import seaborn as sns\n",
    "import os\n",
    "\n",
    "from sklearn.ensemble import RandomForestRegressor\n",
    "from sklearn.model_selection import train_test_split, KFold, cross_val_score\n",
    "from sklearn.metrics import mean_absolute_error\n",
    "from sklearn.impute import KNNImputer\n",
    "from sklearn.preprocessing import MinMaxScaler, StandardScaler\n",
    "from sklearn.pipeline import Pipeline\n",
    "from sklearn.decomposition import PCA\n",
    "from sklearn.metrics import accuracy_score, recall_score, precision_score, f1_score\n",
    "\n",
    "from sklearn.model_selection import GridSearchCV\n",
    "\n",
    "# from .. import data_preprocess\n",
    "\n",
    "pd.set_option('max_columns', None)\n",
    "pd.set_option('max_rows', None)"
   ]
  },
  {
   "cell_type": "markdown",
   "metadata": {},
   "source": [
    "## Common Code"
   ]
  },
  {
   "cell_type": "code",
   "execution_count": 2,
   "metadata": {},
   "outputs": [],
   "source": [
    "# Files supplied by the competition for model training\n",
    "X_train = pd.read_csv('../../data/dengue_features_train.csv')\n",
    "y_train = pd.read_csv('../../data/dengue_labels_train.csv', usecols=['total_cases'])"
   ]
  },
  {
   "cell_type": "code",
   "execution_count": 3,
   "metadata": {},
   "outputs": [],
   "source": [
    "# Files supplied by the competition for submission\n",
    "X_test = pd.read_csv('../../data/dengue_features_test.csv')\n",
    "y_test = pd.read_csv('../../data/submission_format.csv')"
   ]
  },
  {
   "cell_type": "code",
   "execution_count": 4,
   "metadata": {},
   "outputs": [],
   "source": [
    "def data_preprocess(df):\n",
    "    # drop or encode categorical cols\n",
    "    df_processed = df.drop('week_start_date', axis=1)\n",
    "    df_processed['city'] = df_processed['city'].apply(lambda x : 1 if x=='iq' else 0)\n",
    "    return df_processed"
   ]
  },
  {
   "cell_type": "code",
   "execution_count": 61,
   "metadata": {},
   "outputs": [],
   "source": [
    "def create_submission_file(pipeline, filename_comment):\n",
    "    next_file_id = generate_next_submission_fileid()\n",
    "    X_test_processed = data_preprocess(X_test)\n",
    "    y_submit_pred = np.rint(pipeline.predict(X_test_processed))\n",
    "    y_test['total_cases'] = y_submit_pred\n",
    "    y_test['total_cases'] = y_test['total_cases'].astype(int)\n",
    "    filename = f'../../data/dengue_submission_{next_file_id}_{filename_comment}.csv'\n",
    "    y_test.to_csv(filename, index = False)\n",
    "    \n",
    "    return y_submit_pred, filename"
   ]
  },
  {
   "cell_type": "code",
   "execution_count": 6,
   "metadata": {},
   "outputs": [],
   "source": [
    "def generate_next_submission_fileid():\n",
    "    files_found = []\n",
    "    for file in os.listdir(\"../../data\"):\n",
    "        if file.startswith(\"dengue_submission\"):\n",
    "            files_found.append(file[18:20])\n",
    "    return f'{int(sorted(files_found).pop()) + 1 :02}'"
   ]
  },
  {
   "cell_type": "markdown",
   "metadata": {},
   "source": [
    "## Notebook-specific code"
   ]
  },
  {
   "cell_type": "markdown",
   "metadata": {},
   "source": [
    "### Other Estimators to try:\n",
    "https://www.analyticsvidhya.com/blog/2021/01/a-quick-overview-of-regression-algorithms-in-machine-learning/ <br>\n",
    "https://scikit-learn.org/stable/modules/classes.html#module-sklearn.ensemble <br>\n",
    "- AdaBoost\n",
    "- XGBoost\n",
    "- SVM\n",
    "- KNN\n",
    "- Linear Regression (incl L1 reg)\n",
    "- Time Series (ARIMA, etc)"
   ]
  },
  {
   "cell_type": "code",
   "execution_count": 7,
   "metadata": {},
   "outputs": [],
   "source": [
    "from sklearn.ensemble import AdaBoostRegressor"
   ]
  },
  {
   "cell_type": "code",
   "execution_count": 8,
   "metadata": {},
   "outputs": [],
   "source": [
    "def cross_validate(X, y, estimator, cv, scaler=StandardScaler(), imputer=KNNImputer(n_neighbors = 5), dim_reduction=PCA(n_components = 9)):\n",
    "    pipeline = Pipeline(steps=[\n",
    "        ('scaler', scaler),\n",
    "        ('imputer', imputer),\n",
    "        ('dim_reduction', dim_reduction),\n",
    "        ('estimator', estimator)\n",
    "    ])\n",
    "    \n",
    "    #X_train, y_train, X_val, y_val = train_test_split(X, y, test_size=.2, random_state=42)\n",
    "    mae_list_train = []\n",
    "    mae_list_val = []\n",
    "    \n",
    "    for train_idxs, val_idxs in cv.split(X, y):\n",
    "        X_train, y_train = X.iloc[train_idxs], y.iloc[train_idxs]\n",
    "        pipeline.fit(X_train, y_train)\n",
    "        y_pred_train = pipeline.predict(X_train)\n",
    "        print(f'Train MAE = {mean_absolute_error(y_train, y_pred_train)}')\n",
    "        mae_list_train.append(mean_absolute_error(y_train, y_pred_train))\n",
    "        \n",
    "        X_val, y_val = X.iloc[val_idxs], y.iloc[val_idxs]\n",
    "        y_pred_val = pipeline.predict(X_val)\n",
    "\n",
    "        print(f'Validation MAE = {mean_absolute_error(y_val, y_pred_val)}')\n",
    "        mae_list_val.append(mean_absolute_error(y_val, y_pred_val))\n",
    "    \n",
    "    print(f'MAE Train Mean: {np.mean(mae_list_train)}')\n",
    "    print(f'MAE Val Mean: {np.mean(mae_list_val)}')\n",
    "\n",
    "    return pipeline    "
   ]
  },
  {
   "cell_type": "code",
   "execution_count": 65,
   "metadata": {},
   "outputs": [],
   "source": [
    "def tune_model(X_processed, y_train, pipe, param_grid):\n",
    "    \n",
    "\n",
    "    # do gridsearch being sure to set scoring to MAE\n",
    "    gridsearch = GridSearchCV(estimator=pipe, param_grid=params, scoring='neg_mean_absolute_error', verbose=2, n_jobs=-1).fit(X_processed, y_train)\n",
    "    print(f'Score with entire training dataset:{-gridsearch.score(X_processed, y_train)}')\n",
    "\n",
    "    best_params = gridsearch.best_params_\n",
    "    print(best_params)\n",
    "    \n",
    "    return gridsearch"
   ]
  },
  {
   "cell_type": "code",
   "execution_count": 67,
   "metadata": {},
   "outputs": [
    {
     "name": "stdout",
     "output_type": "stream",
     "text": [
      "Fitting 5 folds for each of 800 candidates, totalling 4000 fits\n"
     ]
    },
    {
     "name": "stderr",
     "output_type": "stream",
     "text": [
      "[Parallel(n_jobs=-1)]: Using backend LokyBackend with 8 concurrent workers.\n",
      "[Parallel(n_jobs=-1)]: Done  25 tasks      | elapsed:    1.6s\n",
      "[Parallel(n_jobs=-1)]: Done 148 tasks      | elapsed:    5.0s\n",
      "[Parallel(n_jobs=-1)]: Done 554 tasks      | elapsed:   13.1s\n",
      "[Parallel(n_jobs=-1)]: Done 1120 tasks      | elapsed:   23.6s\n",
      "[Parallel(n_jobs=-1)]: Done 1850 tasks      | elapsed:   39.3s\n",
      "[Parallel(n_jobs=-1)]: Done 2740 tasks      | elapsed:  1.0min\n",
      "[Parallel(n_jobs=-1)]: Done 3794 tasks      | elapsed:  1.5min\n"
     ]
    },
    {
     "name": "stdout",
     "output_type": "stream",
     "text": [
      "Score with entire training dataset:19.01419401445714\n",
      "{'dim_reduction__n_components': 6, 'estimator__learning_rate': 0.02, 'estimator__n_estimators': 25, 'imputer__n_neighbors': 3}\n"
     ]
    },
    {
     "name": "stderr",
     "output_type": "stream",
     "text": [
      "[Parallel(n_jobs=-1)]: Done 4000 out of 4000 | elapsed:  1.6min finished\n",
      "/home/cgridley/anaconda3/lib/python3.8/site-packages/sklearn/utils/validation.py:72: DataConversionWarning: A column-vector y was passed when a 1d array was expected. Please change the shape of y to (n_samples, ), for example using ravel().\n",
      "  return f(**kwargs)\n"
     ]
    }
   ],
   "source": [
    "X_processed = data_preprocess(X_train)\n",
    "\n",
    "# define pipeline\n",
    "pipe = Pipeline(steps=[\n",
    "    ('scaler', StandardScaler()),\n",
    "    ('imputer', KNNImputer()),\n",
    "    ('dim_reduction', PCA()),\n",
    "    ('estimator', AdaBoostRegressor())\n",
    "])\n",
    "\n",
    "# define parameter ranges in dict\n",
    "# use dounble underscore to link pipline object with param name -\n",
    "# - use the label created when defining the pipe for the test left of the '__'\n",
    "params = {\n",
    "    'imputer__n_neighbors' : np.arange(1,10,2),\n",
    "    'dim_reduction__n_components' : np.arange(2,10,2),\n",
    "    'estimator__n_estimators' : np.arange(0,100,25),\n",
    "    'estimator__learning_rate' : np.arange(.02, 1.01, .1)\n",
    "    #'estimator__loss' : ['linear', 'square', 'exponential']\n",
    "}\n",
    "\n",
    "grid_pipe = tune_model(X_processed, y_train, pipe, params)"
   ]
  },
  {
   "cell_type": "code",
   "execution_count": 68,
   "metadata": {},
   "outputs": [
    {
     "data": {
      "text/html": [
       "<div>\n",
       "<style scoped>\n",
       "    .dataframe tbody tr th:only-of-type {\n",
       "        vertical-align: middle;\n",
       "    }\n",
       "\n",
       "    .dataframe tbody tr th {\n",
       "        vertical-align: top;\n",
       "    }\n",
       "\n",
       "    .dataframe thead th {\n",
       "        text-align: right;\n",
       "    }\n",
       "</style>\n",
       "<table border=\"1\" class=\"dataframe\">\n",
       "  <thead>\n",
       "    <tr style=\"text-align: right;\">\n",
       "      <th></th>\n",
       "      <th>city</th>\n",
       "      <th>year</th>\n",
       "      <th>weekofyear</th>\n",
       "      <th>total_cases</th>\n",
       "    </tr>\n",
       "  </thead>\n",
       "  <tbody>\n",
       "    <tr>\n",
       "      <th>0</th>\n",
       "      <td>sj</td>\n",
       "      <td>2008</td>\n",
       "      <td>18</td>\n",
       "      <td>20</td>\n",
       "    </tr>\n",
       "    <tr>\n",
       "      <th>1</th>\n",
       "      <td>sj</td>\n",
       "      <td>2008</td>\n",
       "      <td>19</td>\n",
       "      <td>19</td>\n",
       "    </tr>\n",
       "    <tr>\n",
       "      <th>2</th>\n",
       "      <td>sj</td>\n",
       "      <td>2008</td>\n",
       "      <td>20</td>\n",
       "      <td>19</td>\n",
       "    </tr>\n",
       "    <tr>\n",
       "      <th>3</th>\n",
       "      <td>sj</td>\n",
       "      <td>2008</td>\n",
       "      <td>21</td>\n",
       "      <td>19</td>\n",
       "    </tr>\n",
       "    <tr>\n",
       "      <th>4</th>\n",
       "      <td>sj</td>\n",
       "      <td>2008</td>\n",
       "      <td>22</td>\n",
       "      <td>20</td>\n",
       "    </tr>\n",
       "  </tbody>\n",
       "</table>\n",
       "</div>"
      ],
      "text/plain": [
       "  city  year  weekofyear  total_cases\n",
       "0   sj  2008          18           20\n",
       "1   sj  2008          19           19\n",
       "2   sj  2008          20           19\n",
       "3   sj  2008          21           19\n",
       "4   sj  2008          22           20"
      ]
     },
     "execution_count": 68,
     "metadata": {},
     "output_type": "execute_result"
    }
   ],
   "source": [
    "# GridSearch returns the estimator so we can call .predict() on it!\n",
    "# so just pass the gridsearch object to create_submission_file()\n",
    "y_pred_sub, filename = create_submission_file(grid_pipe, \"adaboost_gridsearch_test\")\n",
    "y_pred_sub = pd.read_csv(filename)\n",
    "y_pred_sub.head()"
   ]
  },
  {
   "cell_type": "markdown",
   "metadata": {},
   "source": [
    "### Before writing tune_model function\n",
    "So delete when confirm new process works as expected"
   ]
  },
  {
   "cell_type": "code",
   "execution_count": 29,
   "metadata": {
    "scrolled": false
   },
   "outputs": [
    {
     "name": "stdout",
     "output_type": "stream",
     "text": [
      "Fitting 5 folds for each of 800 candidates, totalling 4000 fits\n"
     ]
    },
    {
     "name": "stderr",
     "output_type": "stream",
     "text": [
      "[Parallel(n_jobs=-1)]: Using backend LokyBackend with 8 concurrent workers.\n",
      "[Parallel(n_jobs=-1)]: Done  25 tasks      | elapsed:    1.7s\n",
      "[Parallel(n_jobs=-1)]: Done 148 tasks      | elapsed:    5.0s\n",
      "[Parallel(n_jobs=-1)]: Done 554 tasks      | elapsed:   13.1s\n",
      "[Parallel(n_jobs=-1)]: Done 1120 tasks      | elapsed:   23.7s\n",
      "[Parallel(n_jobs=-1)]: Done 1850 tasks      | elapsed:   38.9s\n",
      "[Parallel(n_jobs=-1)]: Done 2740 tasks      | elapsed:  1.0min\n",
      "[Parallel(n_jobs=-1)]: Done 3794 tasks      | elapsed:  1.5min\n"
     ]
    },
    {
     "name": "stdout",
     "output_type": "stream",
     "text": [
      "Score with entire training dataset:19.156325813099276\n",
      "{'dim_reduction__n_components': 6, 'estimator__learning_rate': 0.02, 'estimator__n_estimators': 25, 'imputer__n_neighbors': 9}\n"
     ]
    },
    {
     "name": "stderr",
     "output_type": "stream",
     "text": [
      "[Parallel(n_jobs=-1)]: Done 4000 out of 4000 | elapsed:  1.6min finished\n",
      "/home/cgridley/anaconda3/lib/python3.8/site-packages/sklearn/utils/validation.py:72: DataConversionWarning: A column-vector y was passed when a 1d array was expected. Please change the shape of y to (n_samples, ), for example using ravel().\n",
      "  return f(**kwargs)\n"
     ]
    }
   ],
   "source": [
    "X_processed = data_preprocess(X_train)\n",
    "\n",
    "# define pipeline\n",
    "pipe = Pipeline(steps=[\n",
    "    ('scaler', StandardScaler()),\n",
    "    ('imputer', KNNImputer()),\n",
    "    ('dim_reduction', PCA()),\n",
    "    ('estimator', AdaBoostRegressor())\n",
    "])\n",
    "\n",
    "# define parameter ranges in dict\n",
    "# use dounble underscore to link pipline object with param name -\n",
    "# - use the label created when defining the pipe for the test left of the '__'\n",
    "params = {\n",
    "    'imputer__n_neighbors' : np.arange(1,10,2),\n",
    "    'dim_reduction__n_components' : np.arange(2,10,2),\n",
    "    'estimator__n_estimators' : np.arange(0,100,25),\n",
    "    'estimator__learning_rate' : np.arange(.02, 1.01, .1)\n",
    "    #'estimator__loss' : ['linear', 'square', 'exponential']\n",
    "}\n",
    "\n",
    "# do gridsearch being sure to set scoring to MAE\n",
    "gridsearch = GridSearchCV(estimator=pipe, param_grid=params, scoring='neg_mean_absolute_error', verbose=2, n_jobs=-1).fit(X_processed, y_train)\n",
    "print(f'Score with entire training dataset:{-gridsearch.score(X_processed, y_train)}')\n",
    "\n",
    "best_params = gridsearch.best_params_\n",
    "print(best_params)"
   ]
  },
  {
   "cell_type": "code",
   "execution_count": 62,
   "metadata": {},
   "outputs": [],
   "source": [
    "# GridSearch returns the estimator so we can call .predict() on it!\n",
    "# so just pass the gridsearch object to create_submission_file()\n",
    "y_pred_sub, filename = create_submission_file(gridsearch, \"adaboost_gridsearch_2\")"
   ]
  },
  {
   "cell_type": "code",
   "execution_count": 63,
   "metadata": {},
   "outputs": [
    {
     "data": {
      "text/plain": [
       "array([19., 19., 19., 19., 19., 29., 19., 32., 32., 32., 19., 32., 45.,\n",
       "       38., 40., 44., 46., 45., 44., 40., 48., 37., 32., 31., 29., 20.,\n",
       "       19., 32., 19., 19., 19., 19., 19., 19., 19., 19., 19., 19., 19.,\n",
       "       19., 19., 19., 19., 19., 19., 19., 19., 19., 19., 19., 19., 19.,\n",
       "       19., 19., 19., 19., 19., 19., 19., 31., 31., 38., 38., 42., 40.,\n",
       "       42., 42., 42., 44., 44., 43., 38., 42., 42., 44., 49., 59., 42.,\n",
       "       35., 32., 29., 32., 31., 19., 19., 19., 19., 19., 19., 19., 19.,\n",
       "       19., 19., 19., 19., 19., 19., 19., 19., 19., 19., 19., 19., 19.,\n",
       "       31., 29., 19., 27., 31., 44., 44., 46., 32., 38., 42., 44., 42.,\n",
       "       32., 42., 44., 44., 55., 44., 44., 44., 44., 38., 44., 38., 43.,\n",
       "       32., 29., 32., 19., 19., 19., 19., 19., 19., 19., 19., 19., 19.,\n",
       "       19., 19., 19., 19., 19., 19., 19., 19., 19., 19., 19., 19., 19.,\n",
       "       19., 19., 19., 17., 19., 31., 19., 33., 32., 42., 38., 43., 32.,\n",
       "       44., 32., 42., 32., 42., 42., 42., 44., 32., 46., 46., 32., 31.,\n",
       "       19., 29., 31., 32., 19., 19., 19., 19., 19., 19., 19., 19., 19.,\n",
       "       19., 19., 19., 19., 19., 19., 19., 19., 19., 19., 19., 19., 18.,\n",
       "       19., 19., 19., 29., 19., 19., 32., 32., 44., 44., 38., 32., 42.,\n",
       "       42., 40., 42., 44., 44., 32., 45., 40., 46., 44., 42., 38., 42.,\n",
       "       42., 44., 38., 32., 32., 19., 19., 19., 19., 19., 19., 19., 19.,\n",
       "       19., 19., 19., 19., 19., 19., 19., 19., 19., 19., 19., 19., 19.,\n",
       "       10.,  4.,  9.,  4.,  4.,  4.,  4.,  8.,  4., 10., 10.,  9., 10.,\n",
       "        9., 10., 10., 10., 10., 27., 10., 10., 10., 27., 18., 10., 10.,\n",
       "        9.,  4., 10.,  6.,  4.,  4.,  4., 10., 10.,  9.,  9.,  4., 10.,\n",
       "        9., 10.,  4.,  9., 10., 10.,  4.,  9.,  9.,  4.,  4.,  4.,  4.,\n",
       "        4.,  4.,  4.,  4.,  4.,  4.,  4.,  4.,  4.,  4.,  4., 10.,  4.,\n",
       "        9.,  4., 10., 27., 10.,  9., 10., 10., 10., 10., 10.,  9., 10.,\n",
       "       10.,  4.,  9.,  9.,  4.,  9., 10.,  9., 10.,  4.,  9.,  4.,  4.,\n",
       "       10.,  9., 10., 10.,  8.,  9.,  4.,  4.,  4.,  4.,  4.,  4.,  4.,\n",
       "        4.,  4.,  4.,  4.,  4.,  4.,  4.,  4.,  4.,  4.,  4.,  4.,  4.,\n",
       "        9.,  4., 10., 10., 10., 10., 10., 10., 10., 10., 10., 10., 10.,\n",
       "       10.,  4.,  4., 10.,  5., 10., 10., 10.,  4., 10., 10., 10., 10.,\n",
       "       10., 10., 10.,  8.,  4., 10.,  9.,  4.,  4.,  4.,  4.,  4.,  4.])"
      ]
     },
     "execution_count": 63,
     "metadata": {},
     "output_type": "execute_result"
    }
   ],
   "source": [
    "sub_file"
   ]
  },
  {
   "cell_type": "code",
   "execution_count": 64,
   "metadata": {},
   "outputs": [
    {
     "data": {
      "text/html": [
       "<div>\n",
       "<style scoped>\n",
       "    .dataframe tbody tr th:only-of-type {\n",
       "        vertical-align: middle;\n",
       "    }\n",
       "\n",
       "    .dataframe tbody tr th {\n",
       "        vertical-align: top;\n",
       "    }\n",
       "\n",
       "    .dataframe thead th {\n",
       "        text-align: right;\n",
       "    }\n",
       "</style>\n",
       "<table border=\"1\" class=\"dataframe\">\n",
       "  <thead>\n",
       "    <tr style=\"text-align: right;\">\n",
       "      <th></th>\n",
       "      <th>city</th>\n",
       "      <th>year</th>\n",
       "      <th>weekofyear</th>\n",
       "      <th>total_cases</th>\n",
       "    </tr>\n",
       "  </thead>\n",
       "  <tbody>\n",
       "    <tr>\n",
       "      <th>0</th>\n",
       "      <td>sj</td>\n",
       "      <td>2008</td>\n",
       "      <td>18</td>\n",
       "      <td>19</td>\n",
       "    </tr>\n",
       "    <tr>\n",
       "      <th>1</th>\n",
       "      <td>sj</td>\n",
       "      <td>2008</td>\n",
       "      <td>19</td>\n",
       "      <td>19</td>\n",
       "    </tr>\n",
       "    <tr>\n",
       "      <th>2</th>\n",
       "      <td>sj</td>\n",
       "      <td>2008</td>\n",
       "      <td>20</td>\n",
       "      <td>19</td>\n",
       "    </tr>\n",
       "    <tr>\n",
       "      <th>3</th>\n",
       "      <td>sj</td>\n",
       "      <td>2008</td>\n",
       "      <td>21</td>\n",
       "      <td>19</td>\n",
       "    </tr>\n",
       "    <tr>\n",
       "      <th>4</th>\n",
       "      <td>sj</td>\n",
       "      <td>2008</td>\n",
       "      <td>22</td>\n",
       "      <td>19</td>\n",
       "    </tr>\n",
       "  </tbody>\n",
       "</table>\n",
       "</div>"
      ],
      "text/plain": [
       "  city  year  weekofyear  total_cases\n",
       "0   sj  2008          18           19\n",
       "1   sj  2008          19           19\n",
       "2   sj  2008          20           19\n",
       "3   sj  2008          21           19\n",
       "4   sj  2008          22           19"
      ]
     },
     "execution_count": 64,
     "metadata": {},
     "output_type": "execute_result"
    }
   ],
   "source": [
    "y_sub = pd.read_csv(filename)\n",
    "y_sub.head()"
   ]
  },
  {
   "cell_type": "code",
   "execution_count": null,
   "metadata": {},
   "outputs": [],
   "source": []
  }
 ],
 "metadata": {
  "kernelspec": {
   "display_name": "Python 3",
   "language": "python",
   "name": "python3"
  },
  "language_info": {
   "codemirror_mode": {
    "name": "ipython",
    "version": 3
   },
   "file_extension": ".py",
   "mimetype": "text/x-python",
   "name": "python",
   "nbconvert_exporter": "python",
   "pygments_lexer": "ipython3",
   "version": "3.8.5"
  }
 },
 "nbformat": 4,
 "nbformat_minor": 4
}
