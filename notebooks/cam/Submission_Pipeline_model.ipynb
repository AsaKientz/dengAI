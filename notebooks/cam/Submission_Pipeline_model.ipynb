{
 "cells": [
  {
   "cell_type": "code",
   "execution_count": 1,
   "metadata": {},
   "outputs": [],
   "source": [
    "import pandas as pd\n",
    "import numpy as np\n",
    "import matplotlib.pyplot as ply\n",
    "import seaborn as sns\n",
    "\n",
    "from sklearn.ensemble import RandomForestRegressor\n",
    "from sklearn.model_selection import train_test_split, KFold, cross_val_score\n",
    "from sklearn.metrics import mean_absolute_error\n",
    "from sklearn.impute import KNNImputer\n",
    "from sklearn.preprocessing import MinMaxScaler, StandardScaler\n",
    "from sklearn.pipeline import Pipeline\n",
    "from sklearn.decomposition import PCA\n",
    "from sklearn.metrics import accuracy_score, recall_score, precision_score, f1_score\n",
    "\n",
    "from sklearn.model_selection import GridSearchCV\n",
    "\n",
    "pd.set_option('max_columns', None)\n",
    "pd.set_option('max_rows', None)"
   ]
  },
  {
   "cell_type": "code",
   "execution_count": 2,
   "metadata": {},
   "outputs": [],
   "source": [
    "X = pd.read_csv('../../data/dengue_features_train.csv')\n",
    "y = pd.read_csv('../../data/dengue_labels_train.csv', usecols=['total_cases'])"
   ]
  },
  {
   "cell_type": "markdown",
   "metadata": {},
   "source": [
    "## Data Set Nomenclature\n",
    "Train<br>\n",
    "Validation - split off from training data to validate model<br>\n",
    "Test - new data - the data that is used for competition submission<br>"
   ]
  },
  {
   "cell_type": "code",
   "execution_count": 3,
   "metadata": {},
   "outputs": [],
   "source": [
    "X_test = pd.read_csv('../../data/dengue_features_test.csv')\n",
    "y_test = pd.read_csv('../../data/submission_format.csv')"
   ]
  },
  {
   "cell_type": "code",
   "execution_count": 4,
   "metadata": {},
   "outputs": [],
   "source": [
    "def data_preprocess(df):\n",
    "    # drop or encode categorical cols\n",
    "    df_processed = df.drop('week_start_date', axis=1)\n",
    "    df_processed['city'] = df_processed['city'].apply(lambda x : 1 if x=='iq' else 0)\n",
    "    return df_processed"
   ]
  },
  {
   "cell_type": "code",
   "execution_count": 25,
   "metadata": {},
   "outputs": [],
   "source": [
    "def cross_validate(X, y, estimator, cv, scaler=StandardScaler(), imputer=KNNImputer(), dim_reduction=PCA()):\n",
    "    pipeline = Pipeline(steps=[\n",
    "        ('scaler', scaler),\n",
    "        ('imputer', imputer),\n",
    "        ('dim_reduction', dim_reduction),\n",
    "        ('estimator', estimator)\n",
    "    ])\n",
    "    \n",
    "    \n",
    "    #X_train, y_train, X_val, y_val = train_test_split(X, y, test_size=.2, random_state=42)\n",
    "    \n",
    "    for train_idxs, val_idxs in cv.split(X, y):\n",
    "        X_train, y_train = X.iloc[train_idxs], y.iloc[train_idxs]\n",
    "        pipeline.fit(X_train, y_train)\n",
    "        y_pred_train = pipeline.predict(X_train)\n",
    "        print(f'Train MAE = {mean_absolute_error(y_train, y_pred_train)}')\n",
    "        \n",
    "        X_val, y_val = X.iloc[val_idxs], y.iloc[val_idxs]\n",
    "        y_pred_val = pipeline.predict(X_val)\n",
    "\n",
    "        print(f'Validation MAE = {mean_absolute_error(y_val, y_pred_val)}')\n",
    "\n",
    "\n",
    "        return pipeline        "
   ]
  },
  {
   "cell_type": "code",
   "execution_count": 26,
   "metadata": {},
   "outputs": [
    {
     "name": "stderr",
     "output_type": "stream",
     "text": [
      "/home/cgridley/anaconda3/lib/python3.8/site-packages/sklearn/pipeline.py:335: DataConversionWarning: A column-vector y was passed when a 1d array was expected. Please change the shape of y to (n_samples,), for example using ravel().\n",
      "  self._final_estimator.fit(Xt, y, **fit_params_last_step)\n"
     ]
    },
    {
     "name": "stdout",
     "output_type": "stream",
     "text": [
      "Train MAE = 4.615360824742268\n",
      "Validation MAE = 39.88260273972603\n"
     ]
    }
   ],
   "source": [
    "X_processed = data_preprocess(X)\n",
    "\n",
    "estimator = RandomForestRegressor(n_estimators=100)\n",
    "cv = KFold()\n",
    "pipe = cross_validate(X_processed, y, estimator, cv)"
   ]
  },
  {
   "cell_type": "code",
   "execution_count": null,
   "metadata": {},
   "outputs": [],
   "source": []
  }
 ],
 "metadata": {
  "kernelspec": {
   "display_name": "Python 3",
   "language": "python",
   "name": "python3"
  },
  "language_info": {
   "codemirror_mode": {
    "name": "ipython",
    "version": 3
   },
   "file_extension": ".py",
   "mimetype": "text/x-python",
   "name": "python",
   "nbconvert_exporter": "python",
   "pygments_lexer": "ipython3",
   "version": "3.8.5"
  }
 },
 "nbformat": 4,
 "nbformat_minor": 4
}
